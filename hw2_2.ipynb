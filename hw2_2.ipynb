{
  "nbformat": 4,
  "nbformat_minor": 0,
  "metadata": {
    "colab": {
      "provenance": []
    },
    "kernelspec": {
      "name": "python3",
      "display_name": "Python 3"
    },
    "language_info": {
      "name": "python"
    }
  },
  "cells": [
    {
      "cell_type": "code",
      "source": [
        "import time\n",
        "import functools"
      ],
      "metadata": {
        "id": "o1t-LyTwVw0U"
      },
      "execution_count": 49,
      "outputs": []
    },
    {
      "cell_type": "markdown",
      "source": [
        "1. Напишите декоратор проверяющий, являются ли все аргументы функции числовыми. Если нет\n",
        "-- возбуждается исключение"
      ],
      "metadata": {
        "id": "KB-JQL2Syh1r"
      }
    },
    {
      "cell_type": "code",
      "execution_count": null,
      "metadata": {
        "id": "O9d8dyENMkqs"
      },
      "outputs": [],
      "source": [
        "def check_isDigit(func):\n",
        "    def isDigit(*args, **kwargs):\n",
        "      values = args + tuple(kwargs.values())\n",
        "      for i in values:\n",
        "        if not str(i).isdigit():\n",
        "          raise Exception('Error. must be digits')\n",
        "    return isDigit"
      ]
    },
    {
      "cell_type": "code",
      "source": [
        "@check_isDigit\n",
        "def sum_arg(*args, a=10, b=20, c=30):\n",
        "  return sum(args) + a + b + c"
      ],
      "metadata": {
        "id": "X6-Fzmv5Mndv"
      },
      "execution_count": null,
      "outputs": []
    },
    {
      "cell_type": "markdown",
      "source": [
        "2. Напишите декоратор реализующий шаблон Singleton для классов (Одиночка, Синглтон)\n"
      ],
      "metadata": {
        "id": "ioO_0wqP9Vxu"
      }
    },
    {
      "cell_type": "code",
      "source": [
        "def isNew(func):\n",
        "  def check(new_name):\n",
        "      if not hasattr(new_name, 'instance'):\n",
        "            new_name.instance = super(Singleton, new_name).__new__(new_name)\n",
        "      return new_name.instance\n",
        "  return check\n",
        ""
      ],
      "metadata": {
        "id": "Ppv2z1M1MtkP"
      },
      "execution_count": 5,
      "outputs": []
    },
    {
      "cell_type": "code",
      "source": [
        "class Singleton(object):\n",
        "    @isNew\n",
        "    def __new__(cls):\n",
        "      return cls.instance\n",
        "a = Singleton()\n",
        "print(a)\n",
        "b = Singleton()\n",
        "print(b)"
      ],
      "metadata": {
        "colab": {
          "base_uri": "https://localhost:8080/"
        },
        "id": "XDXghvblFy3-",
        "outputId": "8e4ad2fe-1b96-4a29-9930-3c91ea598c61"
      },
      "execution_count": 7,
      "outputs": [
        {
          "output_type": "stream",
          "name": "stdout",
          "text": [
            "<__main__.Singleton object at 0x7bd2608ee770>\n",
            "<__main__.Singleton object at 0x7bd2608ee770>\n"
          ]
        }
      ]
    },
    {
      "cell_type": "markdown",
      "source": [
        "3. Напишите декоратор, обеспечивающий мемоизацию"
      ],
      "metadata": {
        "id": "JYLQ_rC-IfC9"
      }
    },
    {
      "cell_type": "code",
      "source": [
        "def check_func(func):\n",
        "  cache = dict()\n",
        "  def inner(*args, **kwargs):\n",
        "    values = args + tuple(sorted(kwargs.items()))\n",
        "    if values not in cache:\n",
        "      cache[values] = func(*args, **kwargs)\n",
        "    return cache[values]\n",
        "  return inner\n",
        "\n",
        "\n",
        ""
      ],
      "metadata": {
        "id": "TBL8IVoaHwmT"
      },
      "execution_count": 44,
      "outputs": []
    },
    {
      "cell_type": "code",
      "source": [
        "@check_func\n",
        "def fib(n):\n",
        "  if n == 1 or n == 2:\n",
        "    return 1\n",
        "\n",
        "  return fib(n-1) + fib(n-2)"
      ],
      "metadata": {
        "id": "b3KQhpWHNsBb"
      },
      "execution_count": 45,
      "outputs": []
    },
    {
      "cell_type": "code",
      "source": [
        "fib(125)"
      ],
      "metadata": {
        "colab": {
          "base_uri": "https://localhost:8080/"
        },
        "id": "PS1tLxuzN_dM",
        "outputId": "88e8b0e5-4107-4e4a-88e0-9af69084d8d4"
      },
      "execution_count": 48,
      "outputs": [
        {
          "output_type": "execute_result",
          "data": {
            "text/plain": [
              "59425114757512643212875125"
            ]
          },
          "metadata": {},
          "execution_count": 48
        }
      ]
    },
    {
      "cell_type": "markdown",
      "source": [
        "4. Напишите декоратор определяющий среднее выполнение времени функции по результатам\n",
        "1000 запусков"
      ],
      "metadata": {
        "id": "CwQlC5-nU_r5"
      }
    },
    {
      "cell_type": "code",
      "source": [
        "def timethis(func):\n",
        "\n",
        "  @functools.wraps(func)\n",
        "  def inner(*args, **kwargs):\n",
        "    n_iter = 1000\n",
        "    mid_time = list()\n",
        "\n",
        "    for i in range(n_iter):\n",
        "      tick = time.perf_counter()\n",
        "      result = func(*args, **kwargs)\n",
        "      mid_time.append(time.perf_counter() - tick)\n",
        "\n",
        "    return sum(mid_time)/(len(mid_time))\n",
        "\n",
        "  return inner"
      ],
      "metadata": {
        "id": "yo-V5awzVxhJ"
      },
      "execution_count": 54,
      "outputs": []
    },
    {
      "cell_type": "code",
      "source": [
        "@check_func\n",
        "@timethis\n",
        "def fib(n):\n",
        "  if n == 1 or n == 2:\n",
        "    return 1\n",
        "\n",
        "  return fib(n-1) + fib(n-2)"
      ],
      "metadata": {
        "id": "mc_FJEs8WT1t"
      },
      "execution_count": 55,
      "outputs": []
    },
    {
      "cell_type": "code",
      "source": [
        "fib(10)"
      ],
      "metadata": {
        "colab": {
          "base_uri": "https://localhost:8080/"
        },
        "id": "H2PwoZx7XANq",
        "outputId": "0073c0ad-cd56-4e56-9019-084eab7d0d62"
      },
      "execution_count": 56,
      "outputs": [
        {
          "output_type": "execute_result",
          "data": {
            "text/plain": [
              "2.7016997009923215e-05"
            ]
          },
          "metadata": {},
          "execution_count": 56
        }
      ]
    },
    {
      "cell_type": "code",
      "source": [
        "fib(100)"
      ],
      "metadata": {
        "colab": {
          "base_uri": "https://localhost:8080/"
        },
        "id": "Ms15xrsfXD_P",
        "outputId": "9cd3434f-5093-4994-c17d-d4b622d5894c"
      },
      "execution_count": 57,
      "outputs": [
        {
          "output_type": "execute_result",
          "data": {
            "text/plain": [
              "0.00017235054699540341"
            ]
          },
          "metadata": {},
          "execution_count": 57
        }
      ]
    },
    {
      "cell_type": "code",
      "source": [
        "fib(1000)"
      ],
      "metadata": {
        "colab": {
          "base_uri": "https://localhost:8080/"
        },
        "id": "FMsawW_IXrS-",
        "outputId": "3cbdbb3a-08a1-49a1-a338-f1ba437cfae8"
      },
      "execution_count": 65,
      "outputs": [
        {
          "output_type": "execute_result",
          "data": {
            "text/plain": [
              "0.00036320162299580263"
            ]
          },
          "metadata": {},
          "execution_count": 65
        }
      ]
    },
    {
      "cell_type": "markdown",
      "source": [
        "5. Напишите декоратор который выводит тип и значение для каждого вxодного и выходного\n",
        "аргумента."
      ],
      "metadata": {
        "id": "cH1LQ-_eYIA5"
      }
    },
    {
      "cell_type": "code",
      "source": [
        "def print_type_val(func):\n",
        "\n",
        "  @functools.wraps(func)\n",
        "  def inner(*args, **kwargs):\n",
        "    values = args + tuple(sorted(kwargs.items()))\n",
        "    for i in values:\n",
        "      print(i, type(i))\n",
        "\n",
        "  return inner"
      ],
      "metadata": {
        "id": "Ql72BqeBXv0I"
      },
      "execution_count": 66,
      "outputs": []
    },
    {
      "cell_type": "code",
      "source": [],
      "metadata": {
        "id": "MdRtiDG4dgZ4"
      },
      "execution_count": null,
      "outputs": []
    }
  ]
}