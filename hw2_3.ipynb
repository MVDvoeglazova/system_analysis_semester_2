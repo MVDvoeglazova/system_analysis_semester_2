{
  "nbformat": 4,
  "nbformat_minor": 0,
  "metadata": {
    "colab": {
      "provenance": []
    },
    "kernelspec": {
      "name": "python3",
      "display_name": "Python 3"
    },
    "language_info": {
      "name": "python"
    }
  },
  "cells": [
    {
      "cell_type": "markdown",
      "source": [
        "1. Напишите декоратор, реализующий проверку по заданному правилу входных аргументов\n",
        "функции ( @pre ) .При невыполнении условий прерывайте выполнение с выдачей заранее\n",
        "заданного сообщения. Декоратор должен принимать в качестве аргументов правило и\n",
        "сообщение"
      ],
      "metadata": {
        "id": "He4vVeyk5UdR"
      }
    },
    {
      "cell_type": "code",
      "source": [
        "def pre(param):\n",
        "    def wrapper(func):\n",
        "        def inner(*args, **kwargs):\n",
        "            [values] = args + tuple(sorted(kwargs.values()))\n",
        "            for i in values:\n",
        "                assert param(i), 'invalid argument'\n",
        "            return func(*args, **kwargs)\n",
        "        return inner\n",
        "    return wrapper\n"
      ],
      "metadata": {
        "id": "9wssOpbf5VW5"
      },
      "execution_count": 1,
      "outputs": []
    },
    {
      "cell_type": "code",
      "source": [
        "@pre(lambda l: l < 10)\n",
        "def print_array(array):\n",
        "    print(array)"
      ],
      "metadata": {
        "id": "iAge323x6Op6"
      },
      "execution_count": 2,
      "outputs": []
    },
    {
      "cell_type": "code",
      "source": [
        "array_1 = [1, 2, 3, 4, 9]\n",
        "array_2 = [1, 22, 3, 4, 9]\n",
        "array_3 = [100, 22, 103, 104, 109]"
      ],
      "metadata": {
        "id": "HE27zeGl6UYP"
      },
      "execution_count": 3,
      "outputs": []
    },
    {
      "cell_type": "code",
      "source": [
        "print_array(array_1)\n",
        "print_array(array_2)"
      ],
      "metadata": {
        "colab": {
          "base_uri": "https://localhost:8080/",
          "height": 332
        },
        "id": "MGD7E56y6dRn",
        "outputId": "73e4cdb7-8308-4e03-d984-5bdca09195b9"
      },
      "execution_count": 4,
      "outputs": [
        {
          "output_type": "stream",
          "name": "stdout",
          "text": [
            "[1, 2, 3, 4, 9]\n"
          ]
        },
        {
          "output_type": "error",
          "ename": "AssertionError",
          "evalue": "ignored",
          "traceback": [
            "\u001b[0;31m---------------------------------------------------------------------------\u001b[0m",
            "\u001b[0;31mAssertionError\u001b[0m                            Traceback (most recent call last)",
            "\u001b[0;32m<ipython-input-4-3ea4c70cbd43>\u001b[0m in \u001b[0;36m<cell line: 2>\u001b[0;34m()\u001b[0m\n\u001b[1;32m      1\u001b[0m \u001b[0mprint_array\u001b[0m\u001b[0;34m(\u001b[0m\u001b[0marray_1\u001b[0m\u001b[0;34m)\u001b[0m\u001b[0;34m\u001b[0m\u001b[0;34m\u001b[0m\u001b[0m\n\u001b[0;32m----> 2\u001b[0;31m \u001b[0mprint_array\u001b[0m\u001b[0;34m(\u001b[0m\u001b[0marray_2\u001b[0m\u001b[0;34m)\u001b[0m\u001b[0;34m\u001b[0m\u001b[0;34m\u001b[0m\u001b[0m\n\u001b[0m",
            "\u001b[0;32m<ipython-input-1-de865170014d>\u001b[0m in \u001b[0;36minner\u001b[0;34m(*args, **kwargs)\u001b[0m\n\u001b[1;32m      4\u001b[0m             \u001b[0;34m[\u001b[0m\u001b[0mvalues\u001b[0m\u001b[0;34m]\u001b[0m \u001b[0;34m=\u001b[0m \u001b[0margs\u001b[0m \u001b[0;34m+\u001b[0m \u001b[0mtuple\u001b[0m\u001b[0;34m(\u001b[0m\u001b[0msorted\u001b[0m\u001b[0;34m(\u001b[0m\u001b[0mkwargs\u001b[0m\u001b[0;34m.\u001b[0m\u001b[0mvalues\u001b[0m\u001b[0;34m(\u001b[0m\u001b[0;34m)\u001b[0m\u001b[0;34m)\u001b[0m\u001b[0;34m)\u001b[0m\u001b[0;34m\u001b[0m\u001b[0;34m\u001b[0m\u001b[0m\n\u001b[1;32m      5\u001b[0m             \u001b[0;32mfor\u001b[0m \u001b[0mi\u001b[0m \u001b[0;32min\u001b[0m \u001b[0mvalues\u001b[0m\u001b[0;34m:\u001b[0m\u001b[0;34m\u001b[0m\u001b[0;34m\u001b[0m\u001b[0m\n\u001b[0;32m----> 6\u001b[0;31m                 \u001b[0;32massert\u001b[0m \u001b[0mparam\u001b[0m\u001b[0;34m(\u001b[0m\u001b[0mi\u001b[0m\u001b[0;34m)\u001b[0m\u001b[0;34m,\u001b[0m \u001b[0;34m'invalid argument'\u001b[0m\u001b[0;34m\u001b[0m\u001b[0;34m\u001b[0m\u001b[0m\n\u001b[0m\u001b[1;32m      7\u001b[0m             \u001b[0;32mreturn\u001b[0m \u001b[0mfunc\u001b[0m\u001b[0;34m(\u001b[0m\u001b[0;34m*\u001b[0m\u001b[0margs\u001b[0m\u001b[0;34m,\u001b[0m \u001b[0;34m**\u001b[0m\u001b[0mkwargs\u001b[0m\u001b[0;34m)\u001b[0m\u001b[0;34m\u001b[0m\u001b[0;34m\u001b[0m\u001b[0m\n\u001b[1;32m      8\u001b[0m         \u001b[0;32mreturn\u001b[0m \u001b[0minner\u001b[0m\u001b[0;34m\u001b[0m\u001b[0;34m\u001b[0m\u001b[0m\n",
            "\u001b[0;31mAssertionError\u001b[0m: invalid argument"
          ]
        }
      ]
    },
    {
      "cell_type": "markdown",
      "source": [
        "2. Напишите декоратор, реализующий проверку по заданному правилу выходных аргументов\n",
        "функции ( @post ) . Все остальное - как в примере выше."
      ],
      "metadata": {
        "id": "27A1gkIF5Vwv"
      }
    },
    {
      "cell_type": "code",
      "source": [
        "def post(param):\n",
        "    def wrapper(func):\n",
        "        def inner(*args, **kwargs):\n",
        "            values = func(*args, **kwargs)\n",
        "            for i in values:\n",
        "                assert param(i), 'invalid argument'\n",
        "            return values\n",
        "        return inner\n",
        "    return wrapper\n"
      ],
      "metadata": {
        "id": "Pb9d0trN5WJw"
      },
      "execution_count": 5,
      "outputs": []
    },
    {
      "cell_type": "code",
      "source": [
        "@post(lambda l: l>10)\n",
        "def return_array(array):\n",
        "    return array"
      ],
      "metadata": {
        "id": "6-dt9WDQ6pmE"
      },
      "execution_count": 6,
      "outputs": []
    },
    {
      "cell_type": "code",
      "source": [
        "print(return_array(array_3))\n",
        "return_array(array_1)"
      ],
      "metadata": {
        "colab": {
          "base_uri": "https://localhost:8080/",
          "height": 332
        },
        "id": "ThHYsV3T6vf6",
        "outputId": "6f2d77a8-2bff-477e-e97a-d290f5a1af18"
      },
      "execution_count": 7,
      "outputs": [
        {
          "output_type": "stream",
          "name": "stdout",
          "text": [
            "[100, 22, 103, 104, 109]\n"
          ]
        },
        {
          "output_type": "error",
          "ename": "AssertionError",
          "evalue": "ignored",
          "traceback": [
            "\u001b[0;31m---------------------------------------------------------------------------\u001b[0m",
            "\u001b[0;31mAssertionError\u001b[0m                            Traceback (most recent call last)",
            "\u001b[0;32m<ipython-input-7-a144f0fb687a>\u001b[0m in \u001b[0;36m<cell line: 2>\u001b[0;34m()\u001b[0m\n\u001b[1;32m      1\u001b[0m \u001b[0mprint\u001b[0m\u001b[0;34m(\u001b[0m\u001b[0mreturn_array\u001b[0m\u001b[0;34m(\u001b[0m\u001b[0marray_3\u001b[0m\u001b[0;34m)\u001b[0m\u001b[0;34m)\u001b[0m\u001b[0;34m\u001b[0m\u001b[0;34m\u001b[0m\u001b[0m\n\u001b[0;32m----> 2\u001b[0;31m \u001b[0mreturn_array\u001b[0m\u001b[0;34m(\u001b[0m\u001b[0marray_1\u001b[0m\u001b[0;34m)\u001b[0m\u001b[0;34m\u001b[0m\u001b[0;34m\u001b[0m\u001b[0m\n\u001b[0m",
            "\u001b[0;32m<ipython-input-5-ad1b56fe29e4>\u001b[0m in \u001b[0;36minner\u001b[0;34m(*args, **kwargs)\u001b[0m\n\u001b[1;32m      4\u001b[0m             \u001b[0mvalues\u001b[0m \u001b[0;34m=\u001b[0m \u001b[0mfunc\u001b[0m\u001b[0;34m(\u001b[0m\u001b[0;34m*\u001b[0m\u001b[0margs\u001b[0m\u001b[0;34m,\u001b[0m \u001b[0;34m**\u001b[0m\u001b[0mkwargs\u001b[0m\u001b[0;34m)\u001b[0m\u001b[0;34m\u001b[0m\u001b[0;34m\u001b[0m\u001b[0m\n\u001b[1;32m      5\u001b[0m             \u001b[0;32mfor\u001b[0m \u001b[0mi\u001b[0m \u001b[0;32min\u001b[0m \u001b[0mvalues\u001b[0m\u001b[0;34m:\u001b[0m\u001b[0;34m\u001b[0m\u001b[0;34m\u001b[0m\u001b[0m\n\u001b[0;32m----> 6\u001b[0;31m                 \u001b[0;32massert\u001b[0m \u001b[0mparam\u001b[0m\u001b[0;34m(\u001b[0m\u001b[0mi\u001b[0m\u001b[0;34m)\u001b[0m\u001b[0;34m,\u001b[0m \u001b[0;34m'invalid argument'\u001b[0m\u001b[0;34m\u001b[0m\u001b[0;34m\u001b[0m\u001b[0m\n\u001b[0m\u001b[1;32m      7\u001b[0m             \u001b[0;32mreturn\u001b[0m \u001b[0mvalues\u001b[0m\u001b[0;34m\u001b[0m\u001b[0;34m\u001b[0m\u001b[0m\n\u001b[1;32m      8\u001b[0m         \u001b[0;32mreturn\u001b[0m \u001b[0minner\u001b[0m\u001b[0;34m\u001b[0m\u001b[0;34m\u001b[0m\u001b[0m\n",
            "\u001b[0;31mAssertionError\u001b[0m: invalid argument"
          ]
        }
      ]
    },
    {
      "cell_type": "markdown",
      "source": [
        "3. Напишите настраиваимый декоратор, обеспечивающий мемоизацию (проверьте его на\n",
        "функции Аккермана или на вычислении n-го числа Фибоначчи). Мемоизатор должен хранить\n",
        "не более n значений, (как в очереди -- если пришло n+1 -ое) -- вы забываете 1 -ое. После\n",
        "выполнения функции выдавайте на печать сколько раз функция посчиталась, и сколько раз вы\n",
        "взяли значение из памяти"
      ],
      "metadata": {
        "id": "FOIlquTd5WX4"
      }
    },
    {
      "cell_type": "code",
      "source": [
        "def memo(param):\n",
        "    def wrapper(func):\n",
        "        cache = dict()\n",
        "        counter = 0\n",
        "        count_cache = 0\n",
        "\n",
        "        def inner(*args, **kwargs):\n",
        "            nonlocal counter\n",
        "            nonlocal count_cache\n",
        "            values = args + tuple(sorted(kwargs.items()))\n",
        "\n",
        "            if values in cache:\n",
        "                output = cache[values]\n",
        "                count_cache += 1\n",
        "            else:\n",
        "                output = func(*args, **kwargs)\n",
        "                counter += 1\n",
        "                if param(len(cache)):\n",
        "                    cache[values] = output\n",
        "                else:\n",
        "                    cache[values] = cache.pop(list(cache)[0])\n",
        "                    cache[values] = output\n",
        "            return output, counter, count_cache\n",
        "        return inner\n",
        "    return wrapper"
      ],
      "metadata": {
        "id": "T_Crc9t-6uyb"
      },
      "execution_count": 105,
      "outputs": []
    },
    {
      "cell_type": "code",
      "source": [
        "@memo(lambda l: l <= 20)\n",
        "def fib(num):\n",
        "    if num == 1 or num == 2:\n",
        "        return 1\n",
        "    return fib(num-1) + fib(num-2)"
      ],
      "metadata": {
        "id": "14Eq2lVA6oqK"
      },
      "execution_count": 106,
      "outputs": []
    },
    {
      "cell_type": "code",
      "source": [
        "a, b, c = fib(200)\n",
        "print(b, c)\n"
      ],
      "metadata": {
        "colab": {
          "base_uri": "https://localhost:8080/"
        },
        "id": "NDjrfSdf5Wor",
        "outputId": "598f78e0-003d-4069-f199-b98d0e9fd000"
      },
      "execution_count": 107,
      "outputs": [
        {
          "output_type": "stream",
          "name": "stdout",
          "text": [
            "200 197\n"
          ]
        }
      ]
    },
    {
      "cell_type": "code",
      "source": [],
      "metadata": {
        "id": "VqeEY5zUGRxn"
      },
      "execution_count": 92,
      "outputs": []
    },
    {
      "cell_type": "markdown",
      "source": [
        "4. Напишите декоратор определяющий среднее выполнение времени функции по результатам n\n",
        "запусков\n"
      ],
      "metadata": {
        "id": "5oJl3iC15WxA"
      }
    },
    {
      "cell_type": "code",
      "source": [
        "import time"
      ],
      "metadata": {
        "id": "gKVvtDw9-yG2"
      },
      "execution_count": 19,
      "outputs": []
    },
    {
      "cell_type": "code",
      "execution_count": 100,
      "metadata": {
        "id": "9fHXh-Sk5Oc5"
      },
      "outputs": [],
      "source": [
        "def mid_time(n=10):\n",
        "  def wrapper(func):\n",
        "    list_mid_time = list()\n",
        "    def inner(*args, **kwargs):\n",
        "      for i in range(n):\n",
        "        tick = time.perf_counter()\n",
        "        result = func(*args, **kwargs)\n",
        "        list_mid_time.append(time.perf_counter() - tick)\n",
        "\n",
        "      return sum(list_mid_time)/(len(list_mid_time))\n",
        "\n",
        "    return inner\n",
        "  return wrapper\n"
      ]
    },
    {
      "cell_type": "code",
      "source": [
        "def check_func(func):\n",
        "  cache = dict()\n",
        "  def inner(*args, **kwargs):\n",
        "    values = args + tuple(sorted(kwargs.items()))\n",
        "    if values not in cache:\n",
        "      cache[values] = func(*args, **kwargs)\n",
        "    return cache[values]\n",
        "  return inner"
      ],
      "metadata": {
        "id": "zwnKOLS7G7sX"
      },
      "execution_count": 101,
      "outputs": []
    },
    {
      "cell_type": "code",
      "source": [
        "@check_func\n",
        "@mid_time(100)\n",
        "def fib(num):\n",
        "    if num == 1 or num == 2:\n",
        "        return 1\n",
        "    return fib(num-1) + fib(num-2)"
      ],
      "metadata": {
        "id": "mjBVLDj6_Cl-"
      },
      "execution_count": 102,
      "outputs": []
    },
    {
      "cell_type": "code",
      "source": [
        "fib(3)"
      ],
      "metadata": {
        "colab": {
          "base_uri": "https://localhost:8080/"
        },
        "id": "T99i45sz_Ik2",
        "outputId": "b51b80aa-6a3b-4c15-a182-925ec575ffea"
      },
      "execution_count": 103,
      "outputs": [
        {
          "output_type": "execute_result",
          "data": {
            "text/plain": [
              "1.9613999954041597e-06"
            ]
          },
          "metadata": {},
          "execution_count": 103
        }
      ]
    },
    {
      "cell_type": "code",
      "source": [
        "fib(30)"
      ],
      "metadata": {
        "colab": {
          "base_uri": "https://localhost:8080/"
        },
        "id": "9sFEKcSOGBAm",
        "outputId": "585c8b0d-7a24-4452-e4a7-c1ef58346492"
      },
      "execution_count": 104,
      "outputs": [
        {
          "output_type": "execute_result",
          "data": {
            "text/plain": [
              "5.1598330667729895e-05"
            ]
          },
          "metadata": {},
          "execution_count": 104
        }
      ]
    },
    {
      "cell_type": "code",
      "source": [],
      "metadata": {
        "id": "ih_aqotpHbBI"
      },
      "execution_count": null,
      "outputs": []
    }
  ]
}