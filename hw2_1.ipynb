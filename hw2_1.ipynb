{
  "nbformat": 4,
  "nbformat_minor": 0,
  "metadata": {
    "colab": {
      "provenance": []
    },
    "kernelspec": {
      "name": "python3",
      "display_name": "Python 3"
    },
    "language_info": {
      "name": "python"
    }
  },
  "cells": [
    {
      "cell_type": "markdown",
      "source": [
        "[A. Функциональное приветствие - Основы Python - Функции. Области видимости. Передача параметров в функции](https://new.contest.yandex.ru/41242/problem?id=149944/2022_10_21/CNFOr57A3q)"
      ],
      "metadata": {
        "id": "JJFWdV94akxY"
      }
    },
    {
      "cell_type": "code",
      "execution_count": 114,
      "metadata": {
        "id": "hkGaj4RTbmCc"
      },
      "outputs": [],
      "source": [
        "def print_hello(name):\n",
        "    print(f'Hello, {name}!')"
      ]
    },
    {
      "cell_type": "markdown",
      "source": [
        "[B. Функциональный НОД - Основы Python - Функции. Области видимости. Передача параметров в функции](https://new.contest.yandex.ru/41242/problem?id=149944/2022_10_21/RYegF3IecG)"
      ],
      "metadata": {
        "id": "lhxJDZ7ogNNg"
      }
    },
    {
      "cell_type": "code",
      "source": [
        "def gcd(n1, n2):\n",
        "    while n1 != 0 and n2 != 0:\n",
        "        if n1 > n2:\n",
        "            n1 = n1 % n2\n",
        "        else:\n",
        "            n2 = n2 % n1\n",
        "    return n1 + n2"
      ],
      "metadata": {
        "id": "GxUrwpBqca28"
      },
      "execution_count": 115,
      "outputs": []
    },
    {
      "cell_type": "markdown",
      "source": [
        "[C. Длина числа - Основы Python - Функции. Области видимости. Передача параметров в функции](https://new.contest.yandex.ru/41242/problem?id=149944/2022_10_21/6eqEeEVTLJ)"
      ],
      "metadata": {
        "id": "FVRteCIVgN99"
      }
    },
    {
      "cell_type": "code",
      "source": [
        "def number_length(value):\n",
        "    return len(str(value)) - bool('-' in str(value) or '+' in str(value))"
      ],
      "metadata": {
        "id": "ey8zKV1accmY"
      },
      "execution_count": null,
      "outputs": []
    },
    {
      "cell_type": "markdown",
      "source": [
        "[A. Генератор списков - Основы Python - Позиционные и именованные аргументы. Функции высших порядков. Лямбда-функции](https://new.contest.yandex.ru/41243/problem?id=149944/2022_11_05/PG5RUdm46m)"
      ],
      "metadata": {
        "id": "foXdw6Hchbfg"
      }
    },
    {
      "cell_type": "code",
      "source": [
        "def make_list(lenght, value=0):\n",
        "    return [value] * lenght"
      ],
      "metadata": {
        "id": "nP-LC5rrcn83"
      },
      "execution_count": null,
      "outputs": []
    },
    {
      "cell_type": "markdown",
      "source": [
        "[B. Генератор матриц - Основы Python - Позиционные и именованные аргументы. Функции высших порядков. Лямбда-функции](https://new.contest.yandex.ru/41243/problem?id=149944/2022_11_05/kQZsLlsTGU)"
      ],
      "metadata": {
        "id": "4My0hOAvhjdX"
      }
    },
    {
      "cell_type": "code",
      "source": [
        "def make_matrix(size, value=0):\n",
        "    if type(size) is int:\n",
        "        return [[value] * size] * size\n",
        "    return [[value] * size[0]] * size[-1]"
      ],
      "metadata": {
        "id": "2hUYKda_etd-"
      },
      "execution_count": null,
      "outputs": []
    },
    {
      "cell_type": "code",
      "source": [
        "make_matrix((4, 2), 1)"
      ],
      "metadata": {
        "colab": {
          "base_uri": "https://localhost:8080/"
        },
        "id": "AIgsjB4oj7YW",
        "outputId": "bd0ec68e-0135-47b1-af43-7d1c22d1246a"
      },
      "execution_count": null,
      "outputs": [
        {
          "output_type": "execute_result",
          "data": {
            "text/plain": [
              "[[1, 1, 1, 1], [1, 1, 1, 1]]"
            ]
          },
          "metadata": {},
          "execution_count": 23
        }
      ]
    },
    {
      "cell_type": "code",
      "source": [
        "make_matrix(3, 8)"
      ],
      "metadata": {
        "colab": {
          "base_uri": "https://localhost:8080/"
        },
        "id": "BaXQWhi_kCXQ",
        "outputId": "6ec21a47-f4da-4d95-ef7e-031fd1891c62"
      },
      "execution_count": null,
      "outputs": [
        {
          "output_type": "execute_result",
          "data": {
            "text/plain": [
              "[[8, 8, 8], [8, 8, 8], [8, 8, 8]]"
            ]
          },
          "metadata": {},
          "execution_count": 25
        }
      ]
    },
    {
      "cell_type": "markdown",
      "source": [
        "[C. Функциональный нод 2.0 - Основы Python - Позиционные и именованные аргументы. Функции высших порядков. Лямбда-функции](https://new.contest.yandex.ru/41243/problem?id=149944/2022_11_05/LpMdfMRz2k)"
      ],
      "metadata": {
        "id": "Tm4XnDgvnUW_"
      }
    },
    {
      "cell_type": "code",
      "source": [
        "def gcd(*values):\n",
        "    out = list()\n",
        "    for a in values:\n",
        "        for b in values:\n",
        "            while a != 0 and b != 0:\n",
        "                if a > b:\n",
        "                    a = a % b\n",
        "                else:\n",
        "                    b = b % a\n",
        "        out.append(a + b)\n",
        "    return min(out)\n"
      ],
      "metadata": {
        "id": "vBZRzfW0kL3b"
      },
      "execution_count": null,
      "outputs": []
    },
    {
      "cell_type": "markdown",
      "source": [
        "[A. Выполнение операций со списком - Основы алгоритмов - Односвязный список](https://new.contest.yandex.ru/50909/problem?id=215/2023_03_20/whpmVzFoJn)"
      ],
      "metadata": {
        "id": "EaDfCJpoF2JW"
      }
    },
    {
      "cell_type": "code",
      "source": [
        "result = list()\n",
        "for _ in range(int(input())):\n",
        "    list_input = input().split()\n",
        "    if int(list_input[0]) == 1:\n",
        "        result.insert(int(list_input[1]), int(list_input[2]))\n",
        "    elif int(list_input[0]) == 2:\n",
        "        print(result[int(list_input[1]) - 1])\n",
        "    else:\n",
        "        result.pop(int(list_input[1]) - 1)"
      ],
      "metadata": {
        "id": "y1M7oZmVm_yj"
      },
      "execution_count": null,
      "outputs": []
    },
    {
      "cell_type": "markdown",
      "source": [
        "[A. Выполнение операций с множеством - Основы алгоритмов - Множество](https://new.contest.yandex.ru/48672/problem?id=215/2023_03_20/JBeZfdqvZn)"
      ],
      "metadata": {
        "id": "RidSIf5iIw5h"
      }
    },
    {
      "cell_type": "code",
      "source": [
        "set_values = set()\n",
        "for _ in range(int(input())):\n",
        "    num, val = input().split()\n",
        "    num, val = int(num), int(val)\n",
        "    if num == 1:\n",
        "        set_values.add(val)\n",
        "    else:\n",
        "        print('1' if val in set_values else '0')"
      ],
      "metadata": {
        "id": "6abPH_ZkF3J2"
      },
      "execution_count": null,
      "outputs": []
    },
    {
      "cell_type": "markdown",
      "source": [
        "[A. Выполнение операций со словарем - Основы алгоритмов - Словарь](https://new.contest.yandex.ru/48673/problem?id=215/2023_03_20/ckYXkoBQRB)"
      ],
      "metadata": {
        "id": "IImU4_YtLZuW"
      }
    },
    {
      "cell_type": "code",
      "source": [
        "def func():\n",
        "  mydict = dict()\n",
        "  for _ in range(int(input())):\n",
        "      list_request = input().split()\n",
        "      if list_request[0] == '1':\n",
        "          mydict[list_request[1]] = list_request[2]\n",
        "      else:\n",
        "          print('-1' if list_request[1] not in mydict else mydict[list_request[1]])"
      ],
      "metadata": {
        "id": "Wc1cuqm8LZ5v"
      },
      "execution_count": null,
      "outputs": []
    },
    {
      "cell_type": "markdown",
      "source": [
        "[A. Выполнение операций со стеком - Основы алгоритмов - Стек и очередь](https://new.contest.yandex.ru/47939/problem?id=215/2023_03_20/jC7rL9y8fd)"
      ],
      "metadata": {
        "id": "-T0vmyVRSOkP"
      }
    },
    {
      "cell_type": "code",
      "source": [
        "class Stack:\n",
        "    def __init__(self, val=-1):\n",
        "        self.items = [val]\n",
        "\n",
        "    def push(self, item):\n",
        "        self.items.append(item)\n",
        "\n",
        "    def pop(self):\n",
        "        return self.items.pop()\n",
        "\n",
        "    def peek(self):\n",
        "        return self.items[-1]\n",
        "\n",
        "    def size(self):\n",
        "        return len(self.items)"
      ],
      "metadata": {
        "id": "BJlGDPhhPJ8I"
      },
      "execution_count": 111,
      "outputs": []
    },
    {
      "cell_type": "code",
      "source": [
        "stack = Stack()\n",
        "result = list()\n",
        "for _ in range(int(input())):\n",
        "    req = input().split()\n",
        "    if req[0] == '1':\n",
        "        stack.push(req[1])\n",
        "        result.append(req[1])\n",
        "    else:\n",
        "        stack.pop()\n",
        "        result.append(stack.peek())\n",
        "\n",
        "print(*result, sep='\\n')"
      ],
      "metadata": {
        "colab": {
          "base_uri": "https://localhost:8080/"
        },
        "id": "YFrCOptvbjBh",
        "outputId": "3f0dc5ad-9c0b-40e9-aa48-46a51fa7313e"
      },
      "execution_count": 113,
      "outputs": [
        {
          "output_type": "stream",
          "name": "stdout",
          "text": [
            "1\n",
            "1 2\n",
            "2\n"
          ]
        }
      ]
    }
  ]
}