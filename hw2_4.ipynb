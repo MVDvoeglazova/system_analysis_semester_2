{
  "nbformat": 4,
  "nbformat_minor": 0,
  "metadata": {
    "colab": {
      "provenance": []
    },
    "kernelspec": {
      "name": "python3",
      "display_name": "Python 3"
    },
    "language_info": {
      "name": "python"
    }
  },
  "cells": [
    {
      "cell_type": "code",
      "source": [
        "import math\n",
        "import functools"
      ],
      "metadata": {
        "id": "GVqqq1dTu62D"
      },
      "execution_count": 51,
      "outputs": []
    },
    {
      "cell_type": "markdown",
      "source": [
        "1. Добавить метод в класс с помощью декоратора с наследованием"
      ],
      "metadata": {
        "id": "Ah-7O_OfuZpJ"
      }
    },
    {
      "cell_type": "code",
      "execution_count": 61,
      "metadata": {
        "id": "YkdqK6R9uXPF"
      },
      "outputs": [],
      "source": [
        "def add_method(cls):\n",
        "\n",
        "    def print_name(self):\n",
        "        return cls.__name__\n",
        "\n",
        "    cls.print_name = print_name\n",
        "    return cls"
      ]
    },
    {
      "cell_type": "code",
      "source": [
        "@add_method\n",
        "class Train_1:\n",
        "\n",
        "  def __init__(self, x0=0, y0=0, alpha0=0):\n",
        "\n",
        "    self.alpha = alpha0 # строительная ось от оси x против часовой стрелки\n",
        "    self.x = x0\n",
        "    self.y = y0\n",
        "    self.v = 1\n",
        "    self.t = 1\n",
        "    self.maps = []\n",
        "\n",
        "  def update(self, x, y, distance=None):\n",
        "    if distance:\n",
        "      self.x = x\n",
        "      self.y = y\n",
        "    else:\n",
        "      self.maps.append((x, y))\n",
        "      self.alpha += 90\n",
        "\n",
        "\n",
        "  def info(self):\n",
        "    # do something\n",
        "\n",
        "    return {\n",
        "        \"params\": (self.x, self.y, self.v, self.alpha),\n",
        "        \"maps\": self.maps\n",
        "    }\n",
        "\n",
        "  def processing(self):\n",
        "    self.x += self.v * self.t * math.cos(self.alpha)\n",
        "    self.y += self.v * self.t * math.sin(self.alpha)"
      ],
      "metadata": {
        "id": "2Mg9zEv0uyBL"
      },
      "execution_count": 60,
      "outputs": []
    },
    {
      "cell_type": "markdown",
      "source": [
        "2. Добавить метод в класс с помощью декоратора без наследования"
      ],
      "metadata": {
        "id": "SGlq4yMwul4Y"
      }
    },
    {
      "cell_type": "code",
      "source": [
        "def add_method_2(func):\n",
        "      def print_name(self):\n",
        "        return self.__name__\n",
        "\n",
        "      setattr(func, 'print_name', print_name)\n",
        "      return func"
      ],
      "metadata": {
        "id": "AVT4ntU9wBCk"
      },
      "execution_count": 155,
      "outputs": []
    },
    {
      "cell_type": "code",
      "source": [
        "def add_method_2(func):\n",
        "\n",
        "      setattr(func, 'print_name', func.__name__)\n",
        "      return func"
      ],
      "metadata": {
        "id": "iBT77cwyuuMW"
      },
      "execution_count": 149,
      "outputs": []
    },
    {
      "cell_type": "code",
      "source": [
        "@add_method_2\n",
        "class Train_2:\n",
        "\n",
        "  def __init__(self, x0=0, y0=0, alpha0=0):\n",
        "\n",
        "    self.alpha = alpha0 # строительная ось от оси x против часовой стрелки\n",
        "    self.x = x0\n",
        "    self.y = y0\n",
        "    self.v = 1\n",
        "    self.t = 1\n",
        "    self.maps = []\n",
        "\n",
        "  def update(self, x, y, distance=None):\n",
        "    if distance:\n",
        "      self.x = x\n",
        "      self.y = y\n",
        "    else:\n",
        "      self.maps.append((x, y))\n",
        "      self.alpha += 90\n",
        "\n",
        "\n",
        "  def info(self):\n",
        "    # do something\n",
        "\n",
        "    return {\n",
        "        \"params\": (self.x, self.y, self.v, self.alpha),\n",
        "        \"maps\": self.maps\n",
        "    }\n",
        "\n",
        "  def processing(self):\n",
        "    self.x += self.v * self.t * math.cos(self.alpha)\n",
        "    self.y += self.v * self.t * math.sin(self.alpha)"
      ],
      "metadata": {
        "id": "tzJeWp11v1vb"
      },
      "execution_count": 156,
      "outputs": []
    },
    {
      "cell_type": "code",
      "source": [
        "arg_2 = Train_2"
      ],
      "metadata": {
        "id": "lr7LtCLuxQE_"
      },
      "execution_count": 157,
      "outputs": []
    },
    {
      "cell_type": "code",
      "source": [
        "type(Train_2)"
      ],
      "metadata": {
        "colab": {
          "base_uri": "https://localhost:8080/"
        },
        "id": "UoVMaLvdAhMU",
        "outputId": "e850e91f-88ce-4dc9-b694-528f120c98ee"
      },
      "execution_count": 158,
      "outputs": [
        {
          "output_type": "execute_result",
          "data": {
            "text/plain": [
              "type"
            ]
          },
          "metadata": {},
          "execution_count": 158
        }
      ]
    },
    {
      "cell_type": "code",
      "source": [
        "arg_2.__dict__"
      ],
      "metadata": {
        "colab": {
          "base_uri": "https://localhost:8080/"
        },
        "id": "e84CK2P_xWdg",
        "outputId": "559d90e2-b7e6-4f63-c69e-da3f88a31f22"
      },
      "execution_count": 159,
      "outputs": [
        {
          "output_type": "execute_result",
          "data": {
            "text/plain": [
              "mappingproxy({'__module__': '__main__',\n",
              "              '__init__': <function __main__.Train_2.__init__(self, x0=0, y0=0, alpha0=0)>,\n",
              "              'update': <function __main__.Train_2.update(self, x, y, distance=None)>,\n",
              "              'info': <function __main__.Train_2.info(self)>,\n",
              "              'processing': <function __main__.Train_2.processing(self)>,\n",
              "              '__dict__': <attribute '__dict__' of 'Train_2' objects>,\n",
              "              '__weakref__': <attribute '__weakref__' of 'Train_2' objects>,\n",
              "              '__doc__': None,\n",
              "              'print_name': <function __main__.add_method_2.<locals>.print_name(self)>})"
            ]
          },
          "metadata": {},
          "execution_count": 159
        }
      ]
    },
    {
      "cell_type": "code",
      "source": [
        "Train_2.__dict__"
      ],
      "metadata": {
        "colab": {
          "base_uri": "https://localhost:8080/"
        },
        "id": "ktCUGCGNxcPG",
        "outputId": "20164b78-b115-499e-81e2-704a26dfb1fc"
      },
      "execution_count": 160,
      "outputs": [
        {
          "output_type": "execute_result",
          "data": {
            "text/plain": [
              "mappingproxy({'__module__': '__main__',\n",
              "              '__init__': <function __main__.Train_2.__init__(self, x0=0, y0=0, alpha0=0)>,\n",
              "              'update': <function __main__.Train_2.update(self, x, y, distance=None)>,\n",
              "              'info': <function __main__.Train_2.info(self)>,\n",
              "              'processing': <function __main__.Train_2.processing(self)>,\n",
              "              '__dict__': <attribute '__dict__' of 'Train_2' objects>,\n",
              "              '__weakref__': <attribute '__weakref__' of 'Train_2' objects>,\n",
              "              '__doc__': None,\n",
              "              'print_name': <function __main__.add_method_2.<locals>.print_name(self)>})"
            ]
          },
          "metadata": {},
          "execution_count": 160
        }
      ]
    },
    {
      "cell_type": "code",
      "source": [],
      "metadata": {
        "colab": {
          "base_uri": "https://localhost:8080/"
        },
        "id": "hLvW-NrGxwhu",
        "outputId": "fa8fec93-8bfa-4c5b-9f18-16a7a53576e2"
      },
      "execution_count": 62,
      "outputs": [
        {
          "output_type": "execute_result",
          "data": {
            "text/plain": [
              "type"
            ]
          },
          "metadata": {},
          "execution_count": 62
        }
      ]
    },
    {
      "cell_type": "code",
      "source": [],
      "metadata": {
        "id": "LPcpUfax0NLv"
      },
      "execution_count": null,
      "outputs": []
    }
  ]
}